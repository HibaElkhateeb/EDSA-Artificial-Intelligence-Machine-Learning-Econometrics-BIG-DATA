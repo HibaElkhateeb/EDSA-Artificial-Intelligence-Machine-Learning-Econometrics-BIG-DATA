{
 "cells": [
  {
   "cell_type": "markdown",
   "id": "14e8ef8e",
   "metadata": {},
   "source": [
    "<h1><u><center> <color=\"blue\">  Introduction to Scikit Learn Package </u></h1> "
   ]
  },
  {
   "cell_type": "markdown",
   "id": "4cd9ce43",
   "metadata": {},
   "source": [
    "### **Scikit-Learn**: \n",
    "\n",
    "  - is the premier general-purpose machine learning toolkit for Python programmers.\n",
    "  - It has several submodules for: \n",
    "      - Classification: SVM, nearest neighbors, random forest, logistic regression, etc.\n",
    "      - Regression: Lasso, ridge regression, etc.\n",
    "      - Clustering: k-means, spectral clustering, etc.\n",
    "      - Dimensionality reduction: PCA, feature selection, matrix factorization, etc.\n",
    "      - Model selection: Grid search, cross-validation, metrics\n",
    "      - Preprocessing: Feature extraction, normalization. "
   ]
  },
  {
   "cell_type": "markdown",
   "id": "6a2b5761",
   "metadata": {},
   "source": [
    "## Machine Learning Definitions\n",
    "\n",
    "1. **Machine learning** is the field that teaches machines and computers to learn from existing data to make predictions on new data.\n",
    "\n",
    "2. **Machine learning** is the science and art of giving computers the ability to learn to make decisions from data without being explicitly programmed. \n",
    "\n",
    "\n",
    "## Types of Machine Learning\n",
    "\n",
    "1. **Supervised machine learning**: The program is “trained” on a pre-defined set of “training examples”, which then facilitate its ability to reach an **accurate conclusion** when given new data. For example, the computer can learn to predict whether an email is spam or not spam given its content and sender.\n",
    "\n",
    "\n",
    "2. 1-  **Unsupervised machine learning**: The program is given a bunch of data and must find patterns and relationships therein.\n",
    "\n",
    "2. 2- **Unsupervised learning**: is the machine learning task of uncovering hidden patterns and structures from unlabeled data. For example, a business may wish to group its customers into distinct categories based on their purchasing behavior without knowing in advance what these categories maybe."
   ]
  },
  {
   "cell_type": "markdown",
   "id": "2e867431",
   "metadata": {},
   "source": [
    "### Installing Scikit learn\n",
    "you can use one of the following codes to install the package\n",
    "```python \n",
    "pip install scikit-learn\n",
    "\n",
    "# Or use conda manager\n",
    "conda install scikit-learn\n",
    "```"
   ]
  },
  {
   "cell_type": "markdown",
   "id": "d8931a5d",
   "metadata": {},
   "source": [
    "### Importing Modules from scikit-learn\n",
    "\n",
    "The alias for scikit-learn is sklearn. In order to import a function or a submodule you can use this syntax:\n",
    "```python \n",
    "from sklearn import linear_models\n",
    "```"
   ]
  },
  {
   "cell_type": "markdown",
   "id": "e5d7db6c",
   "metadata": {},
   "source": [
    "### Example of Importing datasets "
   ]
  },
  {
   "cell_type": "code",
   "execution_count": 1,
   "id": "46c6ef60",
   "metadata": {},
   "outputs": [],
   "source": [
    "from sklearn import datasets"
   ]
  },
  {
   "cell_type": "markdown",
   "id": "8bda0000",
   "metadata": {},
   "source": [
    "### Checking the Content of datasets"
   ]
  },
  {
   "cell_type": "code",
   "execution_count": 2,
   "id": "e2418372",
   "metadata": {},
   "outputs": [
    {
     "name": "stdout",
     "output_type": "stream",
     "text": [
      "['_base', '_california_housing', '_covtype', '_kddcup99', '_lfw', '_olivetti_faces', '_openml', '_rcv1', '_samples_generator', '_species_distributions', '_svmlight_format_fast', '_svmlight_format_io', '_twenty_newsgroups', 'clear_data_home', 'dump_svmlight_file', 'fetch_20newsgroups', 'fetch_20newsgroups_vectorized', 'fetch_california_housing', 'fetch_covtype', 'fetch_kddcup99', 'fetch_lfw_pairs', 'fetch_lfw_people', 'fetch_olivetti_faces', 'fetch_openml', 'fetch_rcv1', 'fetch_species_distributions', 'get_data_home', 'load_boston', 'load_breast_cancer', 'load_diabetes', 'load_digits', 'load_files', 'load_iris', 'load_linnerud', 'load_sample_image', 'load_sample_images', 'load_svmlight_file', 'load_svmlight_files', 'load_wine', 'make_biclusters', 'make_blobs', 'make_checkerboard', 'make_circles', 'make_classification', 'make_friedman1', 'make_friedman2', 'make_friedman3', 'make_gaussian_quantiles', 'make_hastie_10_2', 'make_low_rank_matrix', 'make_moons', 'make_multilabel_classification', 'make_regression', 'make_s_curve', 'make_sparse_coded_signal', 'make_sparse_spd_matrix', 'make_sparse_uncorrelated', 'make_spd_matrix', 'make_swiss_roll']\n"
     ]
    }
   ],
   "source": [
    "print([data for data in dir(datasets) if '_' and '__' not in data])"
   ]
  },
  {
   "cell_type": "markdown",
   "id": "a620c7dc",
   "metadata": {},
   "source": [
    "## Scikit-Learn Data Type\n",
    "\n",
    " We are going to import some data from __sklearn__ package and check their type"
   ]
  },
  {
   "cell_type": "code",
   "execution_count": 3,
   "id": "be79d7e5",
   "metadata": {},
   "outputs": [],
   "source": [
    "boston = datasets.load_boston()"
   ]
  },
  {
   "cell_type": "code",
   "execution_count": 4,
   "id": "ce5c23bf",
   "metadata": {},
   "outputs": [
    {
     "data": {
      "text/plain": [
       "sklearn.utils.Bunch"
      ]
     },
     "execution_count": 4,
     "metadata": {},
     "output_type": "execute_result"
    }
   ],
   "source": [
    "type(boston)"
   ]
  },
  {
   "cell_type": "markdown",
   "id": "dab5c7e5",
   "metadata": {},
   "source": [
    "Data type in sklearn is called __Bunch__ which is similar to a dict. "
   ]
  },
  {
   "cell_type": "markdown",
   "id": "3dd6dd5e",
   "metadata": {},
   "source": [
    "### The Content Of a Bunch\n",
    "\n",
    "  - DESCR: Dataset Description\n",
    "  - **data**: values of the independent variables\n",
    "  - **feature_names**: independent variable names\n",
    "  - **target**: values of the dependent variable. \n",
    "  - **filename**: location of the on the local system."
   ]
  },
  {
   "cell_type": "code",
   "execution_count": 5,
   "id": "f6f245d3",
   "metadata": {},
   "outputs": [
    {
     "data": {
      "text/plain": [
       "['DESCR', 'data', 'feature_names', 'filename', 'target']"
      ]
     },
     "execution_count": 5,
     "metadata": {},
     "output_type": "execute_result"
    }
   ],
   "source": [
    "dir(boston)"
   ]
  },
  {
   "cell_type": "markdown",
   "id": "39f91f47",
   "metadata": {},
   "source": [
    "### Dataset Description \n",
    "\n",
    "you can get information or help about the built-in dataset by checking its __DESCR__ attribute."
   ]
  },
  {
   "cell_type": "code",
   "execution_count": 6,
   "id": "44d3a4f8",
   "metadata": {},
   "outputs": [
    {
     "name": "stdout",
     "output_type": "stream",
     "text": [
      "/opt/anaconda3/lib/python3.8/site-packages/sklearn/datasets/data/boston_house_prices.csv\n"
     ]
    }
   ],
   "source": [
    "print(boston.filename)"
   ]
  },
  {
   "cell_type": "markdown",
   "id": "c2a756dc",
   "metadata": {},
   "source": [
    "### Feature Names"
   ]
  },
  {
   "cell_type": "code",
   "execution_count": 7,
   "id": "50e86d6c",
   "metadata": {},
   "outputs": [
    {
     "data": {
      "text/plain": [
       "array(['CRIM', 'ZN', 'INDUS', 'CHAS', 'NOX', 'RM', 'AGE', 'DIS', 'RAD',\n",
       "       'TAX', 'PTRATIO', 'B', 'LSTAT'], dtype='<U7')"
      ]
     },
     "execution_count": 7,
     "metadata": {},
     "output_type": "execute_result"
    }
   ],
   "source": [
    "boston.feature_names"
   ]
  },
  {
   "cell_type": "markdown",
   "id": "110b2392",
   "metadata": {},
   "source": [
    "### Data"
   ]
  },
  {
   "cell_type": "code",
   "execution_count": 8,
   "id": "c48d2729",
   "metadata": {},
   "outputs": [
    {
     "data": {
      "text/plain": [
       "array([[6.3200e-03, 1.8000e+01, 2.3100e+00, ..., 1.5300e+01, 3.9690e+02,\n",
       "        4.9800e+00],\n",
       "       [2.7310e-02, 0.0000e+00, 7.0700e+00, ..., 1.7800e+01, 3.9690e+02,\n",
       "        9.1400e+00],\n",
       "       [2.7290e-02, 0.0000e+00, 7.0700e+00, ..., 1.7800e+01, 3.9283e+02,\n",
       "        4.0300e+00],\n",
       "       ...,\n",
       "       [6.0760e-02, 0.0000e+00, 1.1930e+01, ..., 2.1000e+01, 3.9690e+02,\n",
       "        5.6400e+00],\n",
       "       [1.0959e-01, 0.0000e+00, 1.1930e+01, ..., 2.1000e+01, 3.9345e+02,\n",
       "        6.4800e+00],\n",
       "       [4.7410e-02, 0.0000e+00, 1.1930e+01, ..., 2.1000e+01, 3.9690e+02,\n",
       "        7.8800e+00]])"
      ]
     },
     "execution_count": 8,
     "metadata": {},
     "output_type": "execute_result"
    }
   ],
   "source": [
    "boston.data"
   ]
  },
  {
   "cell_type": "code",
   "execution_count": 9,
   "id": "9160ed09",
   "metadata": {},
   "outputs": [
    {
     "data": {
      "text/plain": [
       "(506, 13)"
      ]
     },
     "execution_count": 9,
     "metadata": {},
     "output_type": "execute_result"
    }
   ],
   "source": [
    "boston.data.shape"
   ]
  },
  {
   "cell_type": "markdown",
   "id": "d2c5acad",
   "metadata": {},
   "source": [
    "### The target Variable"
   ]
  },
  {
   "cell_type": "code",
   "execution_count": 10,
   "id": "418ca409",
   "metadata": {},
   "outputs": [
    {
     "data": {
      "text/plain": [
       "(506,)"
      ]
     },
     "execution_count": 10,
     "metadata": {},
     "output_type": "execute_result"
    }
   ],
   "source": [
    "boston.target.shape"
   ]
  },
  {
   "cell_type": "markdown",
   "id": "90fcd2e3",
   "metadata": {},
   "source": [
    "## Setting the Data for Building Models"
   ]
  },
  {
   "cell_type": "code",
   "execution_count": 11,
   "id": "b5e48d2b",
   "metadata": {},
   "outputs": [],
   "source": [
    "import pandas as pd "
   ]
  },
  {
   "cell_type": "code",
   "execution_count": 12,
   "id": "99fa4276",
   "metadata": {},
   "outputs": [],
   "source": [
    "X = boston.data\n",
    "y = boston.target\n",
    "bost_df = pd.DataFrame(X, columns = boston.feature_names)"
   ]
  },
  {
   "cell_type": "code",
   "execution_count": 13,
   "id": "f933843d",
   "metadata": {},
   "outputs": [
    {
     "data": {
      "text/html": [
       "<div>\n",
       "<style scoped>\n",
       "    .dataframe tbody tr th:only-of-type {\n",
       "        vertical-align: middle;\n",
       "    }\n",
       "\n",
       "    .dataframe tbody tr th {\n",
       "        vertical-align: top;\n",
       "    }\n",
       "\n",
       "    .dataframe thead th {\n",
       "        text-align: right;\n",
       "    }\n",
       "</style>\n",
       "<table border=\"1\" class=\"dataframe\">\n",
       "  <thead>\n",
       "    <tr style=\"text-align: right;\">\n",
       "      <th></th>\n",
       "      <th>CRIM</th>\n",
       "      <th>ZN</th>\n",
       "      <th>INDUS</th>\n",
       "      <th>CHAS</th>\n",
       "      <th>NOX</th>\n",
       "      <th>RM</th>\n",
       "      <th>AGE</th>\n",
       "      <th>DIS</th>\n",
       "      <th>RAD</th>\n",
       "      <th>TAX</th>\n",
       "      <th>PTRATIO</th>\n",
       "      <th>B</th>\n",
       "      <th>LSTAT</th>\n",
       "    </tr>\n",
       "  </thead>\n",
       "  <tbody>\n",
       "    <tr>\n",
       "      <th>0</th>\n",
       "      <td>0.00632</td>\n",
       "      <td>18.0</td>\n",
       "      <td>2.31</td>\n",
       "      <td>0.0</td>\n",
       "      <td>0.538</td>\n",
       "      <td>6.575</td>\n",
       "      <td>65.2</td>\n",
       "      <td>4.0900</td>\n",
       "      <td>1.0</td>\n",
       "      <td>296.0</td>\n",
       "      <td>15.3</td>\n",
       "      <td>396.90</td>\n",
       "      <td>4.98</td>\n",
       "    </tr>\n",
       "    <tr>\n",
       "      <th>1</th>\n",
       "      <td>0.02731</td>\n",
       "      <td>0.0</td>\n",
       "      <td>7.07</td>\n",
       "      <td>0.0</td>\n",
       "      <td>0.469</td>\n",
       "      <td>6.421</td>\n",
       "      <td>78.9</td>\n",
       "      <td>4.9671</td>\n",
       "      <td>2.0</td>\n",
       "      <td>242.0</td>\n",
       "      <td>17.8</td>\n",
       "      <td>396.90</td>\n",
       "      <td>9.14</td>\n",
       "    </tr>\n",
       "    <tr>\n",
       "      <th>2</th>\n",
       "      <td>0.02729</td>\n",
       "      <td>0.0</td>\n",
       "      <td>7.07</td>\n",
       "      <td>0.0</td>\n",
       "      <td>0.469</td>\n",
       "      <td>7.185</td>\n",
       "      <td>61.1</td>\n",
       "      <td>4.9671</td>\n",
       "      <td>2.0</td>\n",
       "      <td>242.0</td>\n",
       "      <td>17.8</td>\n",
       "      <td>392.83</td>\n",
       "      <td>4.03</td>\n",
       "    </tr>\n",
       "    <tr>\n",
       "      <th>3</th>\n",
       "      <td>0.03237</td>\n",
       "      <td>0.0</td>\n",
       "      <td>2.18</td>\n",
       "      <td>0.0</td>\n",
       "      <td>0.458</td>\n",
       "      <td>6.998</td>\n",
       "      <td>45.8</td>\n",
       "      <td>6.0622</td>\n",
       "      <td>3.0</td>\n",
       "      <td>222.0</td>\n",
       "      <td>18.7</td>\n",
       "      <td>394.63</td>\n",
       "      <td>2.94</td>\n",
       "    </tr>\n",
       "    <tr>\n",
       "      <th>4</th>\n",
       "      <td>0.06905</td>\n",
       "      <td>0.0</td>\n",
       "      <td>2.18</td>\n",
       "      <td>0.0</td>\n",
       "      <td>0.458</td>\n",
       "      <td>7.147</td>\n",
       "      <td>54.2</td>\n",
       "      <td>6.0622</td>\n",
       "      <td>3.0</td>\n",
       "      <td>222.0</td>\n",
       "      <td>18.7</td>\n",
       "      <td>396.90</td>\n",
       "      <td>5.33</td>\n",
       "    </tr>\n",
       "  </tbody>\n",
       "</table>\n",
       "</div>"
      ],
      "text/plain": [
       "      CRIM    ZN  INDUS  CHAS    NOX     RM   AGE     DIS  RAD    TAX  \\\n",
       "0  0.00632  18.0   2.31   0.0  0.538  6.575  65.2  4.0900  1.0  296.0   \n",
       "1  0.02731   0.0   7.07   0.0  0.469  6.421  78.9  4.9671  2.0  242.0   \n",
       "2  0.02729   0.0   7.07   0.0  0.469  7.185  61.1  4.9671  2.0  242.0   \n",
       "3  0.03237   0.0   2.18   0.0  0.458  6.998  45.8  6.0622  3.0  222.0   \n",
       "4  0.06905   0.0   2.18   0.0  0.458  7.147  54.2  6.0622  3.0  222.0   \n",
       "\n",
       "   PTRATIO       B  LSTAT  \n",
       "0     15.3  396.90   4.98  \n",
       "1     17.8  396.90   9.14  \n",
       "2     17.8  392.83   4.03  \n",
       "3     18.7  394.63   2.94  \n",
       "4     18.7  396.90   5.33  "
      ]
     },
     "execution_count": 13,
     "metadata": {},
     "output_type": "execute_result"
    }
   ],
   "source": [
    "bost_df.head()"
   ]
  },
  {
   "cell_type": "markdown",
   "id": "2d60e4d5",
   "metadata": {},
   "source": [
    "Or we can do it in one step using this syntax:\n",
    "```python\n",
    "datasets.load_boston(return_X_y=True)\n",
    "```"
   ]
  },
  {
   "cell_type": "markdown",
   "id": "b0df39a6",
   "metadata": {},
   "source": [
    "## Online Materials for learning Machine Learning and Scikit-Learn\n",
    "\n",
    "1. Scikit-learn official [website](https://scikit-learn.org/stable/)\n",
    "\n",
    "\n",
    "2. Introduction to machine learning by [Toptal](https://www.toptal.com/machine-learning/machine-learning-theory-an-introductory-primer)\n",
    "\n",
    "\n",
    "3. Standford Lectures by Andrew NG [here](http://cs229.stanford.edu/syllabus.html)\n",
    "\n",
    "\n",
    "4. Coursera Classes [here](https://www.coursera.org/learn/machine-learning)\n",
    "\n",
    "\n",
    "5. MIT open courses, here is the data science [course](https://ocw.mit.edu/courses/electrical-engineering-and-computer-science/6-0001-introduction-to-computer-science-and-programming-in-python-fall-2016/)\n",
    "\n",
    "\n",
    "6. MIT [YouTube chanel](https://www.youtube.com/channel/UCEBb1b_L6zDS3xTUrIALZOw)\n",
    "\n",
    "\n",
    "7. Machine Learning book for free (http://robotics.stanford.edu/people/nilsson/MLBOOK.pdf)\n",
    "\n",
    "\n",
    "8. Statistical Learning on [edx](https://www.edx.org/course/statistical-learning)\n",
    "\n",
    "\n",
    "9. Introduction to Statistical Learning Book [second edition](https://www.statlearning.com/), and you can download the resources R or Python from [here](https://www.statlearning.com/resources-second-edition)"
   ]
  },
  {
   "cell_type": "code",
   "execution_count": null,
   "id": "09df664f",
   "metadata": {},
   "outputs": [],
   "source": []
  }
 ],
 "metadata": {
  "kernelspec": {
   "display_name": "Python 3",
   "language": "python",
   "name": "python3"
  },
  "language_info": {
   "codemirror_mode": {
    "name": "ipython",
    "version": 3
   },
   "file_extension": ".py",
   "mimetype": "text/x-python",
   "name": "python",
   "nbconvert_exporter": "python",
   "pygments_lexer": "ipython3",
   "version": "3.8.2"
  }
 },
 "nbformat": 4,
 "nbformat_minor": 5
}
