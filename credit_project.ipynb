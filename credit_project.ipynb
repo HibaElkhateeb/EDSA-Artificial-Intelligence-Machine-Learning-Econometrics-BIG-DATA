{
 "cells": [
  {
   "cell_type": "code",
   "execution_count": 1,
   "id": "948b25fd",
   "metadata": {},
   "outputs": [],
   "source": [
    "import pandas as pd\n",
    "import numpy as np\n",
    "#import researchpy as rp\n",
    "import matplotlib.pyplot as plt\n",
    "import seaborn as sns\n",
    "%matplotlib inline\n",
    "# From the  sklearn.model_selection importing the necessary modules\n",
    "from sklearn.model_selection import train_test_split, GridSearchCV, RandomizedSearchCV\n",
    "# From the  sklearn.linear_model importing the necessary module\n",
    "from sklearn.linear_model import LogisticRegression\n",
    "# from sklearn.tree importing the necessary module\n",
    "from sklearn.tree import DecisionTreeClassifier\n",
    "# from sklearn.metrics importing the necessary modules\n",
    "from sklearn.metrics import accuracy_score, classification_report, confusion_matrix, roc_auc_score,roc_curve, auc\n",
    "#Importing the visualization tools\n",
    "from IPython.display import Image  \n",
    "#import graphviz\n",
    "from sklearn.tree import export_graphviz, plot_tree\n",
    "# from sklearn.neighbors importing the necessary module\n",
    "from sklearn.neighbors import KNeighborsClassifier \n",
    "# from.preprocessing importing the necessary modules\n",
    "from sklearn.preprocessing import StandardScaler\n",
    "from sklearn.preprocessing import LabelEncoder\n",
    "#from sklearn.ensemble importing the necessary modules\n",
    "from sklearn.ensemble import AdaBoostClassifier, BaggingClassifier, GradientBoostingClassifier, RandomForestClassifier, VotingClassifier"
   ]
  },
  {
   "cell_type": "code",
   "execution_count": 2,
   "id": "7bd7cd74",
   "metadata": {},
   "outputs": [
    {
     "name": "stdout",
     "output_type": "stream",
     "text": [
      "==================================================\n",
      "<class 'pandas.core.frame.DataFrame'>\n",
      "RangeIndex: 9578 entries, 0 to 9577\n",
      "Data columns (total 14 columns):\n",
      " #   Column             Non-Null Count  Dtype  \n",
      "---  ------             --------------  -----  \n",
      " 0   credit.policy      9578 non-null   int64  \n",
      " 1   purpose            9578 non-null   object \n",
      " 2   int.rate           9578 non-null   float64\n",
      " 3   installment        9578 non-null   float64\n",
      " 4   log.annual.inc     9578 non-null   float64\n",
      " 5   dti                9578 non-null   float64\n",
      " 6   fico               9578 non-null   int64  \n",
      " 7   days.with.cr.line  9578 non-null   float64\n",
      " 8   revol.bal          9578 non-null   int64  \n",
      " 9   revol.util         9578 non-null   float64\n",
      " 10  inq.last.6mths     9578 non-null   int64  \n",
      " 11  delinq.2yrs        9578 non-null   int64  \n",
      " 12  pub.rec            9578 non-null   int64  \n",
      " 13  not.fully.paid     9578 non-null   int64  \n",
      "dtypes: float64(6), int64(7), object(1)\n",
      "memory usage: 1.0+ MB\n",
      "==================================================\n"
     ]
    },
    {
     "data": {
      "text/html": [
       "<div>\n",
       "<style scoped>\n",
       "    .dataframe tbody tr th:only-of-type {\n",
       "        vertical-align: middle;\n",
       "    }\n",
       "\n",
       "    .dataframe tbody tr th {\n",
       "        vertical-align: top;\n",
       "    }\n",
       "\n",
       "    .dataframe thead th {\n",
       "        text-align: right;\n",
       "    }\n",
       "</style>\n",
       "<table border=\"1\" class=\"dataframe\">\n",
       "  <thead>\n",
       "    <tr style=\"text-align: right;\">\n",
       "      <th></th>\n",
       "      <th>credit.policy</th>\n",
       "      <th>purpose</th>\n",
       "      <th>int.rate</th>\n",
       "      <th>installment</th>\n",
       "      <th>log.annual.inc</th>\n",
       "      <th>dti</th>\n",
       "      <th>fico</th>\n",
       "      <th>days.with.cr.line</th>\n",
       "      <th>revol.bal</th>\n",
       "      <th>revol.util</th>\n",
       "      <th>inq.last.6mths</th>\n",
       "      <th>delinq.2yrs</th>\n",
       "      <th>pub.rec</th>\n",
       "      <th>not.fully.paid</th>\n",
       "    </tr>\n",
       "  </thead>\n",
       "  <tbody>\n",
       "    <tr>\n",
       "      <th>0</th>\n",
       "      <td>1</td>\n",
       "      <td>debt_consolidation</td>\n",
       "      <td>0.1189</td>\n",
       "      <td>829.10</td>\n",
       "      <td>11.350407</td>\n",
       "      <td>19.48</td>\n",
       "      <td>737</td>\n",
       "      <td>5639.958333</td>\n",
       "      <td>28854</td>\n",
       "      <td>52.1</td>\n",
       "      <td>0</td>\n",
       "      <td>0</td>\n",
       "      <td>0</td>\n",
       "      <td>0</td>\n",
       "    </tr>\n",
       "    <tr>\n",
       "      <th>1</th>\n",
       "      <td>1</td>\n",
       "      <td>credit_card</td>\n",
       "      <td>0.1071</td>\n",
       "      <td>228.22</td>\n",
       "      <td>11.082143</td>\n",
       "      <td>14.29</td>\n",
       "      <td>707</td>\n",
       "      <td>2760.000000</td>\n",
       "      <td>33623</td>\n",
       "      <td>76.7</td>\n",
       "      <td>0</td>\n",
       "      <td>0</td>\n",
       "      <td>0</td>\n",
       "      <td>0</td>\n",
       "    </tr>\n",
       "    <tr>\n",
       "      <th>2</th>\n",
       "      <td>1</td>\n",
       "      <td>debt_consolidation</td>\n",
       "      <td>0.1357</td>\n",
       "      <td>366.86</td>\n",
       "      <td>10.373491</td>\n",
       "      <td>11.63</td>\n",
       "      <td>682</td>\n",
       "      <td>4710.000000</td>\n",
       "      <td>3511</td>\n",
       "      <td>25.6</td>\n",
       "      <td>1</td>\n",
       "      <td>0</td>\n",
       "      <td>0</td>\n",
       "      <td>0</td>\n",
       "    </tr>\n",
       "    <tr>\n",
       "      <th>3</th>\n",
       "      <td>1</td>\n",
       "      <td>debt_consolidation</td>\n",
       "      <td>0.1008</td>\n",
       "      <td>162.34</td>\n",
       "      <td>11.350407</td>\n",
       "      <td>8.10</td>\n",
       "      <td>712</td>\n",
       "      <td>2699.958333</td>\n",
       "      <td>33667</td>\n",
       "      <td>73.2</td>\n",
       "      <td>1</td>\n",
       "      <td>0</td>\n",
       "      <td>0</td>\n",
       "      <td>0</td>\n",
       "    </tr>\n",
       "    <tr>\n",
       "      <th>4</th>\n",
       "      <td>1</td>\n",
       "      <td>credit_card</td>\n",
       "      <td>0.1426</td>\n",
       "      <td>102.92</td>\n",
       "      <td>11.299732</td>\n",
       "      <td>14.97</td>\n",
       "      <td>667</td>\n",
       "      <td>4066.000000</td>\n",
       "      <td>4740</td>\n",
       "      <td>39.5</td>\n",
       "      <td>0</td>\n",
       "      <td>1</td>\n",
       "      <td>0</td>\n",
       "      <td>0</td>\n",
       "    </tr>\n",
       "    <tr>\n",
       "      <th>5</th>\n",
       "      <td>1</td>\n",
       "      <td>credit_card</td>\n",
       "      <td>0.0788</td>\n",
       "      <td>125.13</td>\n",
       "      <td>11.904968</td>\n",
       "      <td>16.98</td>\n",
       "      <td>727</td>\n",
       "      <td>6120.041667</td>\n",
       "      <td>50807</td>\n",
       "      <td>51.0</td>\n",
       "      <td>0</td>\n",
       "      <td>0</td>\n",
       "      <td>0</td>\n",
       "      <td>0</td>\n",
       "    </tr>\n",
       "    <tr>\n",
       "      <th>6</th>\n",
       "      <td>1</td>\n",
       "      <td>debt_consolidation</td>\n",
       "      <td>0.1496</td>\n",
       "      <td>194.02</td>\n",
       "      <td>10.714418</td>\n",
       "      <td>4.00</td>\n",
       "      <td>667</td>\n",
       "      <td>3180.041667</td>\n",
       "      <td>3839</td>\n",
       "      <td>76.8</td>\n",
       "      <td>0</td>\n",
       "      <td>0</td>\n",
       "      <td>1</td>\n",
       "      <td>1</td>\n",
       "    </tr>\n",
       "    <tr>\n",
       "      <th>7</th>\n",
       "      <td>1</td>\n",
       "      <td>all_other</td>\n",
       "      <td>0.1114</td>\n",
       "      <td>131.22</td>\n",
       "      <td>11.002100</td>\n",
       "      <td>11.08</td>\n",
       "      <td>722</td>\n",
       "      <td>5116.000000</td>\n",
       "      <td>24220</td>\n",
       "      <td>68.6</td>\n",
       "      <td>0</td>\n",
       "      <td>0</td>\n",
       "      <td>0</td>\n",
       "      <td>1</td>\n",
       "    </tr>\n",
       "  </tbody>\n",
       "</table>\n",
       "</div>"
      ],
      "text/plain": [
       "   credit.policy             purpose  int.rate  installment  log.annual.inc  \\\n",
       "0              1  debt_consolidation    0.1189       829.10       11.350407   \n",
       "1              1         credit_card    0.1071       228.22       11.082143   \n",
       "2              1  debt_consolidation    0.1357       366.86       10.373491   \n",
       "3              1  debt_consolidation    0.1008       162.34       11.350407   \n",
       "4              1         credit_card    0.1426       102.92       11.299732   \n",
       "5              1         credit_card    0.0788       125.13       11.904968   \n",
       "6              1  debt_consolidation    0.1496       194.02       10.714418   \n",
       "7              1           all_other    0.1114       131.22       11.002100   \n",
       "\n",
       "     dti  fico  days.with.cr.line  revol.bal  revol.util  inq.last.6mths  \\\n",
       "0  19.48   737        5639.958333      28854        52.1               0   \n",
       "1  14.29   707        2760.000000      33623        76.7               0   \n",
       "2  11.63   682        4710.000000       3511        25.6               1   \n",
       "3   8.10   712        2699.958333      33667        73.2               1   \n",
       "4  14.97   667        4066.000000       4740        39.5               0   \n",
       "5  16.98   727        6120.041667      50807        51.0               0   \n",
       "6   4.00   667        3180.041667       3839        76.8               0   \n",
       "7  11.08   722        5116.000000      24220        68.6               0   \n",
       "\n",
       "   delinq.2yrs  pub.rec  not.fully.paid  \n",
       "0            0        0               0  \n",
       "1            0        0               0  \n",
       "2            0        0               0  \n",
       "3            0        0               0  \n",
       "4            1        0               0  \n",
       "5            0        0               0  \n",
       "6            0        1               1  \n",
       "7            0        0               1  "
      ]
     },
     "execution_count": 2,
     "metadata": {},
     "output_type": "execute_result"
    }
   ],
   "source": [
    "# importing the data and getting the info\n",
    "url=\"E:\\\\machine learning\\\\كورس الدكتور ساعد\\\\data\\\\loan_data.csv\"\n",
    "credit= pd.read_csv(url)\n",
    "print('='*50)\n",
    "credit.info()\n",
    "print('='*50)\n",
    "credit.head(8)"
   ]
  },
  {
   "cell_type": "code",
   "execution_count": 3,
   "id": "cffeecdb",
   "metadata": {},
   "outputs": [
    {
     "data": {
      "text/plain": [
       "Index(['credit.policy', 'purpose', 'int.rate', 'installment', 'log.annual.inc',\n",
       "       'dti', 'fico', 'days.with.cr.line', 'revol.bal', 'revol.util',\n",
       "       'inq.last.6mths', 'delinq.2yrs', 'pub.rec', 'not.fully.paid'],\n",
       "      dtype='object')"
      ]
     },
     "execution_count": 3,
     "metadata": {},
     "output_type": "execute_result"
    }
   ],
   "source": [
    "credit.columns"
   ]
  },
  {
   "cell_type": "code",
   "execution_count": 4,
   "id": "470d76b4",
   "metadata": {},
   "outputs": [
    {
     "data": {
      "text/plain": [
       "credit.policy        0\n",
       "purpose              0\n",
       "int.rate             0\n",
       "installment          0\n",
       "log.annual.inc       0\n",
       "dti                  0\n",
       "fico                 0\n",
       "days.with.cr.line    0\n",
       "revol.bal            0\n",
       "revol.util           0\n",
       "inq.last.6mths       0\n",
       "delinq.2yrs          0\n",
       "pub.rec              0\n",
       "not.fully.paid       0\n",
       "dtype: int64"
      ]
     },
     "execution_count": 4,
     "metadata": {},
     "output_type": "execute_result"
    }
   ],
   "source": [
    "# Looking for missing data\n",
    "credit.isnull().sum()"
   ]
  },
  {
   "cell_type": "code",
   "execution_count": 5,
   "id": "a557fb60",
   "metadata": {},
   "outputs": [
    {
     "data": {
      "text/plain": [
       "<bound method NDFrame.describe of       credit.policy             purpose  int.rate  installment  \\\n",
       "0                 1  debt_consolidation    0.1189       829.10   \n",
       "1                 1         credit_card    0.1071       228.22   \n",
       "2                 1  debt_consolidation    0.1357       366.86   \n",
       "3                 1  debt_consolidation    0.1008       162.34   \n",
       "4                 1         credit_card    0.1426       102.92   \n",
       "...             ...                 ...       ...          ...   \n",
       "9573              0           all_other    0.1461       344.76   \n",
       "9574              0           all_other    0.1253       257.70   \n",
       "9575              0  debt_consolidation    0.1071        97.81   \n",
       "9576              0    home_improvement    0.1600       351.58   \n",
       "9577              0  debt_consolidation    0.1392       853.43   \n",
       "\n",
       "      log.annual.inc    dti  fico  days.with.cr.line  revol.bal  revol.util  \\\n",
       "0          11.350407  19.48   737        5639.958333      28854        52.1   \n",
       "1          11.082143  14.29   707        2760.000000      33623        76.7   \n",
       "2          10.373491  11.63   682        4710.000000       3511        25.6   \n",
       "3          11.350407   8.10   712        2699.958333      33667        73.2   \n",
       "4          11.299732  14.97   667        4066.000000       4740        39.5   \n",
       "...              ...    ...   ...                ...        ...         ...   \n",
       "9573       12.180755  10.39   672       10474.000000     215372        82.1   \n",
       "9574       11.141862   0.21   722        4380.000000        184         1.1   \n",
       "9575       10.596635  13.09   687        3450.041667      10036        82.9   \n",
       "9576       10.819778  19.18   692        1800.000000          0         3.2   \n",
       "9577       11.264464  16.28   732        4740.000000      37879        57.0   \n",
       "\n",
       "      inq.last.6mths  delinq.2yrs  pub.rec  not.fully.paid  \n",
       "0                  0            0        0               0  \n",
       "1                  0            0        0               0  \n",
       "2                  1            0        0               0  \n",
       "3                  1            0        0               0  \n",
       "4                  0            1        0               0  \n",
       "...              ...          ...      ...             ...  \n",
       "9573               2            0        0               1  \n",
       "9574               5            0        0               1  \n",
       "9575               8            0        0               1  \n",
       "9576               5            0        0               1  \n",
       "9577               6            0        0               1  \n",
       "\n",
       "[9578 rows x 14 columns]>"
      ]
     },
     "execution_count": 5,
     "metadata": {},
     "output_type": "execute_result"
    }
   ],
   "source": [
    "credit.describe"
   ]
  },
  {
   "cell_type": "code",
   "execution_count": 6,
   "id": "e16f7120",
   "metadata": {},
   "outputs": [
    {
     "data": {
      "text/html": [
       "<div>\n",
       "<style scoped>\n",
       "    .dataframe tbody tr th:only-of-type {\n",
       "        vertical-align: middle;\n",
       "    }\n",
       "\n",
       "    .dataframe tbody tr th {\n",
       "        vertical-align: top;\n",
       "    }\n",
       "\n",
       "    .dataframe thead th {\n",
       "        text-align: right;\n",
       "    }\n",
       "</style>\n",
       "<table border=\"1\" class=\"dataframe\">\n",
       "  <thead>\n",
       "    <tr style=\"text-align: right;\">\n",
       "      <th></th>\n",
       "      <th>count</th>\n",
       "      <th>mean</th>\n",
       "      <th>std</th>\n",
       "      <th>min</th>\n",
       "      <th>25%</th>\n",
       "      <th>50%</th>\n",
       "      <th>75%</th>\n",
       "      <th>max</th>\n",
       "    </tr>\n",
       "  </thead>\n",
       "  <tbody>\n",
       "    <tr>\n",
       "      <th>credit.policy</th>\n",
       "      <td>9578.0</td>\n",
       "      <td>0.804970</td>\n",
       "      <td>0.396245</td>\n",
       "      <td>0.000000</td>\n",
       "      <td>1.000000</td>\n",
       "      <td>1.000000</td>\n",
       "      <td>1.000000</td>\n",
       "      <td>1.000000e+00</td>\n",
       "    </tr>\n",
       "    <tr>\n",
       "      <th>int.rate</th>\n",
       "      <td>9578.0</td>\n",
       "      <td>0.122640</td>\n",
       "      <td>0.026847</td>\n",
       "      <td>0.060000</td>\n",
       "      <td>0.103900</td>\n",
       "      <td>0.122100</td>\n",
       "      <td>0.140700</td>\n",
       "      <td>2.164000e-01</td>\n",
       "    </tr>\n",
       "    <tr>\n",
       "      <th>installment</th>\n",
       "      <td>9578.0</td>\n",
       "      <td>319.089413</td>\n",
       "      <td>207.071301</td>\n",
       "      <td>15.670000</td>\n",
       "      <td>163.770000</td>\n",
       "      <td>268.950000</td>\n",
       "      <td>432.762500</td>\n",
       "      <td>9.401400e+02</td>\n",
       "    </tr>\n",
       "    <tr>\n",
       "      <th>log.annual.inc</th>\n",
       "      <td>9578.0</td>\n",
       "      <td>10.932117</td>\n",
       "      <td>0.614813</td>\n",
       "      <td>7.547502</td>\n",
       "      <td>10.558414</td>\n",
       "      <td>10.928884</td>\n",
       "      <td>11.291293</td>\n",
       "      <td>1.452835e+01</td>\n",
       "    </tr>\n",
       "    <tr>\n",
       "      <th>dti</th>\n",
       "      <td>9578.0</td>\n",
       "      <td>12.606679</td>\n",
       "      <td>6.883970</td>\n",
       "      <td>0.000000</td>\n",
       "      <td>7.212500</td>\n",
       "      <td>12.665000</td>\n",
       "      <td>17.950000</td>\n",
       "      <td>2.996000e+01</td>\n",
       "    </tr>\n",
       "    <tr>\n",
       "      <th>fico</th>\n",
       "      <td>9578.0</td>\n",
       "      <td>710.846314</td>\n",
       "      <td>37.970537</td>\n",
       "      <td>612.000000</td>\n",
       "      <td>682.000000</td>\n",
       "      <td>707.000000</td>\n",
       "      <td>737.000000</td>\n",
       "      <td>8.270000e+02</td>\n",
       "    </tr>\n",
       "    <tr>\n",
       "      <th>days.with.cr.line</th>\n",
       "      <td>9578.0</td>\n",
       "      <td>4560.767197</td>\n",
       "      <td>2496.930377</td>\n",
       "      <td>178.958333</td>\n",
       "      <td>2820.000000</td>\n",
       "      <td>4139.958333</td>\n",
       "      <td>5730.000000</td>\n",
       "      <td>1.763996e+04</td>\n",
       "    </tr>\n",
       "    <tr>\n",
       "      <th>revol.bal</th>\n",
       "      <td>9578.0</td>\n",
       "      <td>16913.963876</td>\n",
       "      <td>33756.189557</td>\n",
       "      <td>0.000000</td>\n",
       "      <td>3187.000000</td>\n",
       "      <td>8596.000000</td>\n",
       "      <td>18249.500000</td>\n",
       "      <td>1.207359e+06</td>\n",
       "    </tr>\n",
       "    <tr>\n",
       "      <th>revol.util</th>\n",
       "      <td>9578.0</td>\n",
       "      <td>46.799236</td>\n",
       "      <td>29.014417</td>\n",
       "      <td>0.000000</td>\n",
       "      <td>22.600000</td>\n",
       "      <td>46.300000</td>\n",
       "      <td>70.900000</td>\n",
       "      <td>1.190000e+02</td>\n",
       "    </tr>\n",
       "    <tr>\n",
       "      <th>inq.last.6mths</th>\n",
       "      <td>9578.0</td>\n",
       "      <td>1.577469</td>\n",
       "      <td>2.200245</td>\n",
       "      <td>0.000000</td>\n",
       "      <td>0.000000</td>\n",
       "      <td>1.000000</td>\n",
       "      <td>2.000000</td>\n",
       "      <td>3.300000e+01</td>\n",
       "    </tr>\n",
       "    <tr>\n",
       "      <th>delinq.2yrs</th>\n",
       "      <td>9578.0</td>\n",
       "      <td>0.163708</td>\n",
       "      <td>0.546215</td>\n",
       "      <td>0.000000</td>\n",
       "      <td>0.000000</td>\n",
       "      <td>0.000000</td>\n",
       "      <td>0.000000</td>\n",
       "      <td>1.300000e+01</td>\n",
       "    </tr>\n",
       "    <tr>\n",
       "      <th>pub.rec</th>\n",
       "      <td>9578.0</td>\n",
       "      <td>0.062122</td>\n",
       "      <td>0.262126</td>\n",
       "      <td>0.000000</td>\n",
       "      <td>0.000000</td>\n",
       "      <td>0.000000</td>\n",
       "      <td>0.000000</td>\n",
       "      <td>5.000000e+00</td>\n",
       "    </tr>\n",
       "    <tr>\n",
       "      <th>not.fully.paid</th>\n",
       "      <td>9578.0</td>\n",
       "      <td>0.160054</td>\n",
       "      <td>0.366676</td>\n",
       "      <td>0.000000</td>\n",
       "      <td>0.000000</td>\n",
       "      <td>0.000000</td>\n",
       "      <td>0.000000</td>\n",
       "      <td>1.000000e+00</td>\n",
       "    </tr>\n",
       "  </tbody>\n",
       "</table>\n",
       "</div>"
      ],
      "text/plain": [
       "                    count          mean           std         min  \\\n",
       "credit.policy      9578.0      0.804970      0.396245    0.000000   \n",
       "int.rate           9578.0      0.122640      0.026847    0.060000   \n",
       "installment        9578.0    319.089413    207.071301   15.670000   \n",
       "log.annual.inc     9578.0     10.932117      0.614813    7.547502   \n",
       "dti                9578.0     12.606679      6.883970    0.000000   \n",
       "fico               9578.0    710.846314     37.970537  612.000000   \n",
       "days.with.cr.line  9578.0   4560.767197   2496.930377  178.958333   \n",
       "revol.bal          9578.0  16913.963876  33756.189557    0.000000   \n",
       "revol.util         9578.0     46.799236     29.014417    0.000000   \n",
       "inq.last.6mths     9578.0      1.577469      2.200245    0.000000   \n",
       "delinq.2yrs        9578.0      0.163708      0.546215    0.000000   \n",
       "pub.rec            9578.0      0.062122      0.262126    0.000000   \n",
       "not.fully.paid     9578.0      0.160054      0.366676    0.000000   \n",
       "\n",
       "                           25%          50%           75%           max  \n",
       "credit.policy         1.000000     1.000000      1.000000  1.000000e+00  \n",
       "int.rate              0.103900     0.122100      0.140700  2.164000e-01  \n",
       "installment         163.770000   268.950000    432.762500  9.401400e+02  \n",
       "log.annual.inc       10.558414    10.928884     11.291293  1.452835e+01  \n",
       "dti                   7.212500    12.665000     17.950000  2.996000e+01  \n",
       "fico                682.000000   707.000000    737.000000  8.270000e+02  \n",
       "days.with.cr.line  2820.000000  4139.958333   5730.000000  1.763996e+04  \n",
       "revol.bal          3187.000000  8596.000000  18249.500000  1.207359e+06  \n",
       "revol.util           22.600000    46.300000     70.900000  1.190000e+02  \n",
       "inq.last.6mths        0.000000     1.000000      2.000000  3.300000e+01  \n",
       "delinq.2yrs           0.000000     0.000000      0.000000  1.300000e+01  \n",
       "pub.rec               0.000000     0.000000      0.000000  5.000000e+00  \n",
       "not.fully.paid        0.000000     0.000000      0.000000  1.000000e+00  "
      ]
     },
     "execution_count": 6,
     "metadata": {},
     "output_type": "execute_result"
    }
   ],
   "source": [
    "# Describing dataset numeric credit.describe()\n",
    "credit.describe().T"
   ]
  },
  {
   "cell_type": "code",
   "execution_count": 7,
   "id": "138e9cd8",
   "metadata": {},
   "outputs": [
    {
     "data": {
      "text/html": [
       "<div>\n",
       "<style scoped>\n",
       "    .dataframe tbody tr th:only-of-type {\n",
       "        vertical-align: middle;\n",
       "    }\n",
       "\n",
       "    .dataframe tbody tr th {\n",
       "        vertical-align: top;\n",
       "    }\n",
       "\n",
       "    .dataframe thead th {\n",
       "        text-align: right;\n",
       "    }\n",
       "</style>\n",
       "<table border=\"1\" class=\"dataframe\">\n",
       "  <thead>\n",
       "    <tr style=\"text-align: right;\">\n",
       "      <th></th>\n",
       "      <th>count</th>\n",
       "      <th>unique</th>\n",
       "      <th>top</th>\n",
       "      <th>freq</th>\n",
       "    </tr>\n",
       "  </thead>\n",
       "  <tbody>\n",
       "    <tr>\n",
       "      <th>purpose</th>\n",
       "      <td>9578</td>\n",
       "      <td>7</td>\n",
       "      <td>debt_consolidation</td>\n",
       "      <td>3957</td>\n",
       "    </tr>\n",
       "  </tbody>\n",
       "</table>\n",
       "</div>"
      ],
      "text/plain": [
       "        count unique                 top  freq\n",
       "purpose  9578      7  debt_consolidation  3957"
      ]
     },
     "execution_count": 7,
     "metadata": {},
     "output_type": "execute_result"
    }
   ],
   "source": [
    "# Describing dataset object data.describe()\n",
    "credit.describe(include='object').T"
   ]
  },
  {
   "cell_type": "code",
   "execution_count": 8,
   "id": "17603927",
   "metadata": {},
   "outputs": [
    {
     "data": {
      "text/plain": [
       "array(['debt_consolidation', 'credit_card', 'all_other',\n",
       "       'home_improvement', 'small_business', 'major_purchase',\n",
       "       'educational'], dtype=object)"
      ]
     },
     "execution_count": 8,
     "metadata": {},
     "output_type": "execute_result"
    }
   ],
   "source": [
    "credit['purpose'].unique()"
   ]
  },
  {
   "cell_type": "code",
   "execution_count": 9,
   "id": "5ce164d9",
   "metadata": {},
   "outputs": [
    {
     "data": {
      "image/png": "[encoded data removed]",
      "text/plain": [
       "<Figure size 432x288 with 1 Axes>"
      ]
     },
     "metadata": {},
     "output_type": "display_data"
    }
   ],
   "source": [
    "# Plot the target variable\n",
    "sns.set(style=\"white\")\n",
    "ax=sns.countplot(x='credit.policy', data=credit, palette=\"husl\")\n",
    "plt.xticks(size=13)\n",
    "total = float(len(credit))\n",
    "plt.rcParams[\"figure.figsize\"] = [7.00, 3.50]\n",
    "plt.rcParams[\"figure.autolayout\"] = False\n",
    "\n",
    "for p in ax.patches:\n",
    "    percentage = '{:.2f}%'.format(100 * p.get_height()/total)\n",
    "    x = p.get_x() + p.get_width()\n",
    "    y = p.get_height()\n",
    "    ax.annotate(percentage, (x, y),ha='center')\n",
    "plt.show()"
   ]
  },
  {
   "cell_type": "code",
   "execution_count": 10,
   "id": "a42e6ec6",
   "metadata": {},
   "outputs": [],
   "source": [
    "\n",
    "\n",
    "X = credit.drop(['credit.policy','purpose'], axis=1)\n",
    "y = credit['credit.policy']\n",
    "\n",
    "\n",
    "\n",
    "# Split the data:\n",
    "#     - Using 25% for test test\n",
    "#     - Use 10 for random state\n",
    "#     - Use stratification sampling\n",
    "# -----------------------------------------------------\n",
    "\n",
    "X_train, X_test, y_train, y_test = train_test_split(X, \n",
    "                                                    y,\n",
    "                                                    test_size=0.25, \n",
    "                                                    random_state=10,\n",
    "                                                    stratify=y)\n",
    "\n"
   ]
  },
  {
   "cell_type": "code",
   "execution_count": 11,
   "id": "1c848937",
   "metadata": {},
   "outputs": [],
   "source": [
    "\n",
    "\n",
    "# Scaling the numeric data\n",
    "sc=StandardScaler()\n",
    "X_train = sc.fit_transform(X_train[['int.rate', 'installment', 'log.annual.inc',\n",
    "       'dti', 'fico', 'days.with.cr.line', 'revol.bal', 'revol.util',\n",
    "       'inq.last.6mths', 'delinq.2yrs', 'pub.rec', 'not.fully.paid']])\n",
    "X_test = sc.transform(X_test[['int.rate', 'installment', 'log.annual.inc',\n",
    "       'dti', 'fico', 'days.with.cr.line', 'revol.bal', 'revol.util',\n",
    "       'inq.last.6mths', 'delinq.2yrs', 'pub.rec', 'not.fully.paid']])\n",
    "\n",
    "\n",
    "\n"
   ]
  },
  {
   "cell_type": "code",
   "execution_count": 12,
   "id": "e6868d49",
   "metadata": {},
   "outputs": [
    {
     "name": "stdout",
     "output_type": "stream",
     "text": [
      "[[ 322  145]\n",
      " [  62 1866]]\n"
     ]
    },
    {
     "data": {
      "image/png": "[encoded data removed]",
      "text/plain": [
       "<Figure size 504x252 with 2 Axes>"
      ]
     },
     "metadata": {},
     "output_type": "display_data"
    }
   ],
   "source": [
    "\n",
    "#Running Logistic Regression\n",
    "\n",
    "Logistic_Model = LogisticRegression().fit(X_train, y_train)\n",
    "#prediction using Logistic model\n",
    "y_pre_Logistic= Logistic_Model.predict(X_test)\n",
    "\n",
    "cm_Logistic= confusion_matrix(y_test, y_pre_Logistic)\n",
    "sns.heatmap(cm_Logistic, annot=True)\n",
    "print(confusion_matrix(y_test, y_pre_Logistic))\n"
   ]
  },
  {
   "cell_type": "code",
   "execution_count": 13,
   "id": "054f3bbc",
   "metadata": {},
   "outputs": [
    {
     "name": "stdout",
     "output_type": "stream",
     "text": [
      "              precision    recall  f1-score   support\n",
      "\n",
      "           0       0.84      0.69      0.76       467\n",
      "           1       0.93      0.97      0.95      1928\n",
      "\n",
      "    accuracy                           0.91      2395\n",
      "   macro avg       0.88      0.83      0.85      2395\n",
      "weighted avg       0.91      0.91      0.91      2395\n",
      "\n",
      "The Logistic AUC Score is: 0.9382\n",
      "****************************************\n"
     ]
    }
   ],
   "source": [
    "print(classification_report(y_test, y_pre_Logistic))\n",
    "\n",
    "\n",
    "# The Logistic model AUC score\n",
    "# -------------------------\n",
    "y_pred_logic_prob = Logistic_Model.predict_proba(X_test)\n",
    "fpr_logic, tpr_logic, thresholds = roc_curve(y_test, y_pred_logic_prob[:,1])\n",
    "auc_logic = auc(fpr_logic, tpr_logic)\n",
    "\n",
    "print ('The Logistic AUC Score is: {:.4f}'.format(auc_logic))\n",
    "print(\"*\"*40)\n",
    "\n",
    "\n"
   ]
  },
  {
   "cell_type": "code",
   "execution_count": 14,
   "id": "dc507965",
   "metadata": {},
   "outputs": [],
   "source": [
    "#Classification Decision Tree Hyperparameter\n",
    "#Define param_grid\n",
    "decision_tree = DecisionTreeClassifier(random_state=1711) \n",
    "                               \n",
    "params_decision_tree = {\n",
    "    'max_depth': [2, 3, 4, 6, 8, 10],\n",
    "    'min_samples_leaf':[0.08,0.1, .12, 0.14, .16, .18],\n",
    "    }\n",
    "\n",
    "# Instantiate grid_dt\n",
    "grid_dt = GridSearchCV(estimator = decision_tree, \n",
    "                       param_grid= params_decision_tree,\n",
    "                       scoring='roc_auc',\n",
    "                       cv= 10,\n",
    "                       n_jobs= -1)"
   ]
  },
  {
   "cell_type": "code",
   "execution_count": 15,
   "id": "c8a1aa25",
   "metadata": {},
   "outputs": [
    {
     "name": "stdout",
     "output_type": "stream",
     "text": [
      "         Best hyerparameters:\n",
      "          \n",
      "==================================================\n",
      "{'max_depth': 8, 'min_samples_leaf': 0.08}\n",
      "**************************************************\n",
      "Best CV accuracy 0.9326844114405572\n",
      "**************************************************\n",
      "The best estimator is:\n",
      "----------------------\n",
      "DecisionTreeClassifier(max_depth=8, min_samples_leaf=0.08, random_state=1711)\n",
      "**************************************************\n",
      "Test set ROC AUC score: 0.946\n",
      "==================================================\n"
     ]
    }
   ],
   "source": [
    "# Fit the GridSearchCV object\n",
    "grid_dt.fit(X_train, y_train)\n",
    "\n",
    "\n",
    "# Extract best hyperparameters from 'grid_dt' and print them\n",
    "best_hyperparams = grid_dt.best_params_\n",
    "\n",
    "print('Best hyerparameters:\\n'.center(40))\n",
    "print(\"=\"*50)\n",
    "print(best_hyperparams)\n",
    "print(\"*\"*50)\n",
    "\n",
    "# Extract best CV score from 'grid_dt'\n",
    "best_CV_score = grid_dt.best_score_\n",
    "\n",
    "print('Best CV accuracy {}'.format(best_CV_score))\n",
    "\n",
    "\n",
    "# Extract best model from 'grid_dt'\n",
    "best_model = grid_dt.best_estimator_\n",
    "\n",
    "print(\"*\"*50)\n",
    "print(\"The best estimator is:\")\n",
    "print(\"-\"*len(\"The best estimator is:\"))\n",
    "print(best_model)\n",
    "print(\"*\"*50)\n",
    "\n",
    "# Predict the test set probabilities of the positive class\n",
    "y_pred_proba = best_model.predict_proba(X_test)[:,1]\n",
    "best_model.predict_proba\n",
    "# Compute test_roc_auc\n",
    "test_roc_auc = roc_auc_score(y_test, y_pred_proba)\n",
    "\n",
    "# Print test_roc_auc\n",
    "print('Test set ROC AUC score: {:.3f}'.format(test_roc_auc))\n",
    "print(\"=\"*50)"
   ]
  },
  {
   "cell_type": "code",
   "execution_count": 16,
   "id": "07965443",
   "metadata": {},
   "outputs": [],
   "source": [
    "#fit the model\n",
    "Decision_Tree = DecisionTreeClassifier(max_depth=8,\n",
    "                                       min_samples_leaf=0.08,\n",
    "                                       random_state=1711) \n",
    "Decision_Tree.fit(X_train, y_train)\n",
    "#predict the model\n",
    "y_pred_dt=Decision_Tree.predict(X_test)"
   ]
  },
  {
   "cell_type": "code",
   "execution_count": 17,
   "id": "ac02a832",
   "metadata": {},
   "outputs": [
    {
     "name": "stdout",
     "output_type": "stream",
     "text": [
      "Test set ROC AUC score: 0.946\n",
      "==================================================\n",
      "score: 0.909\n",
      "==================================================\n",
      "              precision    recall  f1-score   support\n",
      "\n",
      "           0       0.88      0.62      0.73       467\n",
      "           1       0.91      0.98      0.95      1928\n",
      "\n",
      "    accuracy                           0.91      2395\n",
      "   macro avg       0.89      0.80      0.84      2395\n",
      "weighted avg       0.91      0.91      0.90      2395\n",
      "\n"
     ]
    }
   ],
   "source": [
    "# Predict the test set probabilities of the positive class\n",
    "y_pred_proba =Decision_Tree.predict_proba(X_test)[:,1]\n",
    "\n",
    "# Compute test_roc_auc\n",
    "test_roc_auc = roc_auc_score(y_test, y_pred_proba)\n",
    "\n",
    "# Print test_roc_auc\n",
    "print('Test set ROC AUC score: {:.3f}'.format(test_roc_auc))\n",
    "print(\"=\"*50)\n",
    "# accuracy \n",
    "score= accuracy_score(y_test, y_pred_dt)\n",
    "print('score: {:.3f}'.format(score))\n",
    "print(\"=\"*50)\n",
    "print(classification_report(y_test, y_pred_dt))"
   ]
  },
  {
   "cell_type": "code",
   "execution_count": 18,
   "id": "05bfc82d",
   "metadata": {},
   "outputs": [
    {
     "name": "stdout",
     "output_type": "stream",
     "text": [
      "The Decision Tree AUC Score is: 0.9457\n",
      "****************************************\n"
     ]
    }
   ],
   "source": [
    "# The Decision Tree model AUC score\n",
    "# -------------------------\n",
    "y_pred_dt_prob = Decision_Tree.predict_proba(X_test)\n",
    "fpr_dtree, tpr_dtree, thresholds = roc_curve(y_test, y_pred_dt_prob[:,1])\n",
    "auc_tree = auc(fpr_dtree, tpr_dtree)\n",
    "\n",
    "print ('The Decision Tree AUC Score is: {:.4f}'.format(auc_tree))\n",
    "print(\"*\"*40)"
   ]
  },
  {
   "cell_type": "code",
   "execution_count": 19,
   "id": "8f7e08b5",
   "metadata": {},
   "outputs": [],
   "source": [
    "\n",
    "#KNeighborsClassifier KNN`\n",
    "\n",
    "# Create empty list for storing the accuracy on both train and test sets\n",
    "\n",
    "training_accuracy = [] \n",
    "test_accuracy = []\n",
    "\n",
    "# try n_neighbors from 1 to 10\n",
    "neighbors_space = range(1, 10)\n",
    "\n",
    "# Loop over the k neighobors_space (1, 10)\n",
    "for n_neighbors in neighbors_space:\n",
    "    \n",
    "# build the KNN classifier model\n",
    "    clss = KNeighborsClassifier(n_neighbors = n_neighbors)\n",
    "    clss.fit(X_train, y_train) \n",
    "    \n",
    "    # Record the training set accuracy\n",
    "    training_accuracy.append(clss.score(X_train, y_train)) \n",
    "    \n",
    "    # record generalization accuracy \n",
    "    test_accuracy.append(clss.score(X_test, y_test))\n",
    "\n"
   ]
  },
  {
   "cell_type": "code",
   "execution_count": 20,
   "id": "6bc1df7e",
   "metadata": {},
   "outputs": [
    {
     "name": "stdout",
     "output_type": "stream",
     "text": [
      "[[ 272  195]\n",
      " [  22 1906]]\n",
      "                        The model Accuracy is                         \n",
      "======================================================================\n",
      "Test set accuracy: 0.91\n",
      "----------------------------------------------------------------------\n"
     ]
    },
    {
     "data": {
      "image/png": "[encoded data removed]",
      "text/plain": [
       "<Figure size 504x252 with 2 Axes>"
      ]
     },
     "metadata": {},
     "output_type": "display_data"
    }
   ],
   "source": [
    "# Create and fit a knn classifier Object with k=7\n",
    "KNN_MODEL= KNeighborsClassifier(n_neighbors=7).fit(X_train,y_train)\n",
    "\n",
    "#prediction using KNN model \n",
    "y_pred_knn=KNN_MODEL.predict(X_test)\n",
    "#confusion Matrix\n",
    "cm_knn=confusion_matrix(y_test,y_pred_knn)\n",
    "sns.heatmap(cm_knn, annot=True)\n",
    "print(confusion_matrix(y_test,y_pred_knn))\n",
    "# Score the knn classifier \n",
    "acc_knn = KNN_MODEL.score(X_test, y_test)\n",
    "\n",
    "# Print the accuracy\n",
    "print(\"The model Accuracy is\".center(70))\n",
    "print(\"=\"*70)\n",
    "print(\"Test set accuracy: {:.2f}\".format(acc_knn))\n",
    "print(\"-\"*70)"
   ]
  },
  {
   "cell_type": "code",
   "execution_count": 21,
   "id": "c3883248",
   "metadata": {},
   "outputs": [
    {
     "name": "stdout",
     "output_type": "stream",
     "text": [
      "The KNN AUC Score is: 0.9383\n",
      "****************************************\n"
     ]
    }
   ],
   "source": [
    "# The Knn Model model AUC score\n",
    "# -------------------------\n",
    "y_pred_knn_prob = KNN_MODEL.predict_proba(X_test)\n",
    "fpr_knn, tpr_knn, thresholds = roc_curve(y_test, y_pred_knn_prob[:,1])\n",
    "auc_knn = auc(fpr_knn, tpr_knn)\n",
    "\n",
    "print ('The KNN AUC Score is: {:.4f}'.format(auc_knn))\n",
    "print(\"*\"*40)"
   ]
  },
  {
   "cell_type": "code",
   "execution_count": 22,
   "id": "1b1345c4",
   "metadata": {},
   "outputs": [
    {
     "name": "stdout",
     "output_type": "stream",
     "text": [
      "Logistic Regression : 0.914\n",
      "K Nearest Neighbours: 0.909\n",
      "Classification Tree : 0.909\n"
     ]
    }
   ],
   "source": [
    "\n",
    "#Voting Classifier\n",
    "\n",
    "# logistic regression (Logistic_Model)\n",
    "\n",
    "#  knn (KNN_MODEL)\n",
    "\n",
    "# Instantiate Decision Tree (Decision_Tree)\n",
    "\n",
    "# Define the list classifiers\n",
    "classifiers = [('Logistic Regression', Logistic_Model), \n",
    "               ('K Nearest Neighbours', KNN_MODEL), \n",
    "               ('Classification Tree', Decision_Tree)]\n",
    "\n",
    "# Iterate over the pre-defined list of classifiers\n",
    "for clf_name, clf in classifiers:    \n",
    " \n",
    "    # Fit clf to the training set\n",
    "    clf.fit(X_train, y_train)    \n",
    "   \n",
    "    # Predict y_pred\n",
    "    y_pred = clf.predict(X_test)\n",
    "    \n",
    "    # Calculate accuracy\n",
    "    accuracy = accuracy_score(y_pred, y_test) \n",
    "   \n",
    "    # Evaluate clf's accuracy on the test set\n",
    "    print('{:20}: {:.3f}'.format(clf_name,  accuracy))\n",
    "\n"
   ]
  },
  {
   "cell_type": "code",
   "execution_count": 23,
   "id": "8ca622ec",
   "metadata": {},
   "outputs": [
    {
     "name": "stdout",
     "output_type": "stream",
     "text": [
      "Voting Classifier: 0.927\n"
     ]
    }
   ],
   "source": [
    "# Instantiate a VotingClassifier vc\n",
    "Voting_Classifier = VotingClassifier(estimators=classifiers)     \n",
    "\n",
    "# Fit vc to the training set\n",
    "Voting_Classifier.fit(X_train, y_train)   \n",
    "\n",
    "# Evaluate the test set predictions\n",
    "y_pred_voting = Voting_Classifier.predict(X_test)\n",
    "\n",
    "# Calculate accuracy score\n",
    "accuracy = accuracy_score(y_pred_voting, y_test)\n",
    "print('Voting Classifier: {:.3f}'.format(accuracy))"
   ]
  },
  {
   "cell_type": "code",
   "execution_count": 24,
   "id": "45d48e7a",
   "metadata": {},
   "outputs": [
    {
     "name": "stdout",
     "output_type": "stream",
     "text": [
      "**************************************************\n",
      "Test set accuracy: 0.909\n",
      "**************************************************\n",
      "The OOB accuracy: 0.896\n"
     ]
    }
   ],
   "source": [
    "\n",
    "#Bagging\n",
    "\n",
    "# Instantiate Decision Tree (Decision_Tree)\n",
    "\n",
    "\n",
    "# Instantiate bg\n",
    "# ==============\n",
    "Bagging_Classifier = BaggingClassifier(base_estimator=Decision_Tree,\n",
    "                       n_estimators= 300,\n",
    "                       oob_score=True,                \n",
    "                       random_state=1711)\n",
    "\n",
    "\n",
    "# Fit bc to the training set\n",
    "# =========================\n",
    "Bagging_Classifier.fit(X_train, y_train)\n",
    "\n",
    "# Predict test set labels\n",
    "# -----------------------\n",
    "y_pred = Bagging_Classifier.predict(X_test)\n",
    "\n",
    "# Evaluate OOB accuracy\n",
    "# ---------------------\n",
    "oob_acc = Bagging_Classifier.oob_score_\n",
    "\n",
    "# Evaluate test set accuracy\n",
    "# --------------------------\n",
    "test_acc = accuracy_score(y_pred, y_test)\n",
    "\n",
    "# Print acc_test and acc_oob\n",
    "# --------------------------\n",
    "print(\"*\"*50)\n",
    "print('Test set accuracy: {:.3f}'.format(test_acc))\n",
    "print(\"*\"*50)\n",
    "print('The OOB accuracy: {:.3f}'.format(oob_acc))\n",
    "\n"
   ]
  },
  {
   "cell_type": "code",
   "execution_count": 29,
   "id": "43c719bd",
   "metadata": {},
   "outputs": [
    {
     "name": "stdout",
     "output_type": "stream",
     "text": [
      "**************************************************\n",
      "Test set accuracy: 0.913\n",
      "**************************************************\n",
      "The OOB accuracy: 0.900\n"
     ]
    }
   ],
   "source": [
    "# logistic regression (Logistic_Model)\n",
    "\n",
    "# Instantiate bc\n",
    "# ==============\n",
    "Bagging_Classifier_Logistic = BaggingClassifier(base_estimator=Logistic_Model,\n",
    "                       n_estimators= 300,\n",
    "                       oob_score=True,\n",
    "                       random_state=1711)\n",
    "\n",
    "\n",
    "# Fit bc to the training set\n",
    "# =========================\n",
    "Bagging_Classifier_Logistic.fit(X_train, y_train)\n",
    "\n",
    "# Predict test set labels\n",
    "# -----------------------\n",
    "y_pred = Bagging_Classifier_Logistic.predict(X_test)\n",
    "\n",
    "# Evaluate test set accuracy\n",
    "# --------------------------\n",
    "test_acc = accuracy_score(y_pred, y_test)\n",
    "\n",
    "# Evaluate OOB accuracy\n",
    "# ---------------------\n",
    "oob_acc =  Bagging_Classifier_Logistic.oob_score_\n",
    "\n",
    "# Print acc_test and acc_oob\n",
    "# --------------------------\n",
    "print(\"*\"*50)\n",
    "print('Test set accuracy: {:.3f}'.format(test_acc))\n",
    "print(\"*\"*50)\n",
    "print('The OOB accuracy: {:.3f}'.format(oob_acc))"
   ]
  },
  {
   "cell_type": "code",
   "execution_count": 30,
   "id": "b639d1f3",
   "metadata": {},
   "outputs": [
    {
     "name": "stdout",
     "output_type": "stream",
     "text": [
      "**************************************************\n",
      "Test set accuracy: 0.910\n",
      "**************************************************\n",
      "The OOB accuracy: 0.901\n"
     ]
    }
   ],
   "source": [
    "#  knn (KNN_MODEL)\n",
    "\n",
    "# Instantiate bc\n",
    "# ==============\n",
    "Bagging_Classifier_knn = BaggingClassifier(base_estimator=KNN_MODEL,\n",
    "                       n_estimators= 30,\n",
    "                       oob_score=True,                    \n",
    "                       random_state=1711)\n",
    "\n",
    "\n",
    "# Fit bc to the training set\n",
    "# =========================\n",
    "Bagging_Classifier_knn.fit(X_train, y_train)\n",
    "\n",
    "# Predict test set labels\n",
    "# -----------------------\n",
    "y_pred = Bagging_Classifier_knn.predict(X_test)\n",
    "\n",
    "# Evaluate test set accuracy\n",
    "# --------------------------\n",
    "test_acc = accuracy_score(y_pred, y_test)\n",
    "\n",
    "# Evaluate OOB accuracy\n",
    "# ---------------------\n",
    "oob_acc = Bagging_Classifier_knn.oob_score_\n",
    "\n",
    "# Print acc_test and acc_oob\n",
    "# --------------------------\n",
    "print(\"*\"*50)\n",
    "print('Test set accuracy: {:.3f}'.format(test_acc))\n",
    "print(\"*\"*50)\n",
    "print('The OOB accuracy: {:.3f}'.format(oob_acc))"
   ]
  },
  {
   "cell_type": "code",
   "execution_count": 33,
   "id": "b151a821",
   "metadata": {},
   "outputs": [
    {
     "name": "stdout",
     "output_type": "stream",
     "text": [
      "Fitting 5 folds for each of 200 candidates, totalling 1000 fits\n",
      "Best hyperparameters:\n",
      " {'max_depth': 2, 'max_features': 'log2', 'min_samples_leaf': 0.1, 'n_estimators': 100}\n",
      "The Accuracy is : 0.81\n"
     ]
    }
   ],
   "source": [
    "\n",
    "#Random Forest\n",
    "\n",
    "# Instantiate a random forests classifier 'RandomForest_Classifier'\n",
    "RandomForest_Classifier = RandomForestClassifier(random_state= 1711)\n",
    "\n",
    "# Define a grid of hyperparameter 'params_rf_reg' (the same for classifier)\n",
    "params_rf_clf = {\n",
    "              'n_estimators': [100, 200, 300, 400, 500],\n",
    "              'max_depth': [2, 4, 6, 8],\n",
    "              'min_samples_leaf': [0.1, 0.2, 0.3, 0.4, 0.5],\n",
    "              'max_features': ['log2', 'sqrt']\n",
    "}\n",
    "\n",
    "\n",
    "# Instantiate 'grid_rf_clf'\n",
    "grid_rf_clf = GridSearchCV(estimator=RandomForest_Classifier,\n",
    "                       param_grid=params_rf_clf,\n",
    "                       cv=5,\n",
    "                       scoring='neg_mean_squared_error',\n",
    "                       verbose=1,\n",
    "                       n_jobs=-1)\n",
    "\n",
    "\n",
    " # Fit 'grid_rf_clf' to the training set\n",
    "grid_rf_clf.fit(X_train, y_train)\n",
    "\n",
    " # Extract the best hyperparameters from 'grid_rf'\n",
    "best_hyperparams = grid_rf_clf.best_params_\n",
    "print('Best hyperparameters:\\n', best_hyperparams)\n",
    "\n",
    " # Extract the best model from 'grid_rf'\n",
    "best_model = grid_rf_clf.best_estimator_\n",
    "\n",
    "# Predict the test set labels\n",
    "y_pred = best_model.predict(X_test)\n",
    "\n",
    "# Evaluate test set accurac\n",
    "test_acc = accuracy_score(y_pred, y_test)\n",
    "\n",
    "# Print the test set RMSE\n",
    "print('The Accuracy is : {:.2f}'.format(test_acc))\n",
    "\n"
   ]
  },
  {
   "cell_type": "code",
   "execution_count": 32,
   "id": "33dd8172",
   "metadata": {},
   "outputs": [
    {
     "name": "stdout",
     "output_type": "stream",
     "text": [
      "[[   0  467]\n",
      " [   0 1928]]\n"
     ]
    },
    {
     "data": {
      "image/png": "[encoded data removed]",
      "text/plain": [
       "<Figure size 504x252 with 2 Axes>"
      ]
     },
     "metadata": {},
     "output_type": "display_data"
    }
   ],
   "source": [
    "cm_RandomForest = confusion_matrix(y_test, y_pred)\n",
    "sns.heatmap(cm_RandomForest, annot=True)\n",
    "print(confusion_matrix(y_test, y_pred))"
   ]
  },
  {
   "cell_type": "code",
   "execution_count": 34,
   "id": "23dab794",
   "metadata": {},
   "outputs": [
    {
     "name": "stdout",
     "output_type": "stream",
     "text": [
      "==================================================\n",
      "Test set ROC AUC score: 0.887\n",
      "==================================================\n"
     ]
    }
   ],
   "source": [
    "\n",
    "\n",
    "# Predict the test set probabilities of the positive class\n",
    "y_pred_proba =best_model.predict_proba(X_test)[:,1]\n",
    "\n",
    "# Compute test_roc_auc\n",
    "test_roc_auc = roc_auc_score(y_test, y_pred_proba)\n",
    "\n",
    "print(\"=\"*50)\n",
    "# Print test_roc_auc\n",
    "print('Test set ROC AUC score: {:.3f}'.format(test_roc_auc))\n",
    "print(\"=\"*50)\n",
    "\n"
   ]
  },
  {
   "cell_type": "code",
   "execution_count": 35,
   "id": "295adcc5",
   "metadata": {},
   "outputs": [
    {
     "name": "stdout",
     "output_type": "stream",
     "text": [
      "Fitting 5 folds for each of 1 candidates, totalling 5 fits\n",
      "The Accuracy is : 0.81\n"
     ]
    }
   ],
   "source": [
    "# Instantiate a random forests classifier 'RandomForest_Classifier'\n",
    "RandomForest_Classifier1 = RandomForestClassifier(random_state= 1711)\n",
    "\n",
    "# Define a grid of hyperparameter 'params_rf_reg' (the same for classifier)\n",
    "params_rf_clf1 = {\n",
    "              'n_estimators': [100],\n",
    "              'max_depth': [2],\n",
    "              'min_samples_leaf': [0.1],\n",
    "              'max_features': ['log2']\n",
    "}\n",
    "\n",
    "\n",
    "grid_rf_clf1 = GridSearchCV(estimator=RandomForest_Classifier1,\n",
    "                       param_grid=params_rf_clf1,\n",
    "                       cv=5,\n",
    "                       scoring='neg_mean_squared_error',\n",
    "                       verbose=1,\n",
    "                       n_jobs=-1)\n",
    "\n",
    "\n",
    " # Fit 'grid_rf_clf' to the training set\n",
    "grid_rf_clf1.fit(X_train, y_train)\n",
    "\n",
    "# Predict the test set labels\n",
    "y_pred_random = grid_rf_clf1.predict(X_test)\n",
    "\n",
    "# Evaluate test set accurac\n",
    "test_acc = accuracy_score(y_pred_random, y_test)\n",
    "\n",
    "# Print the test set RMSE\n",
    "print('The Accuracy is : {:.2f}'.format(test_acc))"
   ]
  },
  {
   "cell_type": "code",
   "execution_count": 36,
   "id": "92fada4a",
   "metadata": {},
   "outputs": [
    {
     "name": "stdout",
     "output_type": "stream",
     "text": [
      "==================================================\n",
      "Test set ROC AUC score: 0.887\n",
      "==================================================\n"
     ]
    }
   ],
   "source": [
    "\n",
    "\n",
    "# Predict the test set probabilities of the positive class\n",
    "y_pred_proba1 =grid_rf_clf1.predict_proba(X_test)[:,1]\n",
    "\n",
    "# Compute test_roc_auc\n",
    "test_roc_auc = roc_auc_score(y_test, y_pred_proba1)\n",
    "\n",
    "print(\"=\"*50)\n",
    "# Print test_roc_auc\n",
    "print('Test set ROC AUC score: {:.3f}'.format(test_roc_auc))\n",
    "print(\"=\"*50)\n",
    "\n"
   ]
  },
  {
   "cell_type": "code",
   "execution_count": null,
   "id": "3f19ed16",
   "metadata": {},
   "outputs": [],
   "source": []
  },
  {
   "cell_type": "code",
   "execution_count": null,
   "id": "4dfa9596",
   "metadata": {},
   "outputs": [],
   "source": []
  }
 ],
 "metadata": {
  "kernelspec": {
   "display_name": "Python 3 (ipykernel)",
   "language": "python",
   "name": "python3"
  },
  "language_info": {
   "codemirror_mode": {
    "name": "ipython",
    "version": 3
   },
   "file_extension": ".py",
   "mimetype": "text/x-python",
   "name": "python",
   "nbconvert_exporter": "python",
   "pygments_lexer": "ipython3",
   "version": "3.9.1"
  }
 },
 "nbformat": 4,
 "nbformat_minor": 5
}
